{
 "cells": [
  {
   "cell_type": "markdown",
   "metadata": {},
   "source": [
    "# Speech to Text using microphone"
   ]
  },
  {
   "cell_type": "code",
   "execution_count": 1,
   "metadata": {},
   "outputs": [],
   "source": [
    "import speech_recognition as sr"
   ]
  },
  {
   "cell_type": "code",
   "execution_count": 2,
   "metadata": {},
   "outputs": [],
   "source": [
    "r=sr.Recognizer()"
   ]
  },
  {
   "cell_type": "code",
   "execution_count": 3,
   "metadata": {},
   "outputs": [
    {
     "name": "stdout",
     "output_type": "stream",
     "text": [
      "Speak Anything:\n",
      "System predicts:hello\n"
     ]
    }
   ],
   "source": [
    "with sr.Microphone() as source:\n",
    "    print(\"Speak Anything:\")\n",
    "    audio=r.listen(source)\n",
    "    \n",
    "    try:\n",
    "        print(\"System predicts:\"+r.recognize_google(audio))\n",
    "    except Exception:\n",
    "        print(\"Something went wrong\")"
   ]
  },
  {
   "cell_type": "markdown",
   "metadata": {},
   "source": [
    "# Speech to Text using Audio file"
   ]
  },
  {
   "cell_type": "code",
   "execution_count": 4,
   "metadata": {},
   "outputs": [
    {
     "name": "stdout",
     "output_type": "stream",
     "text": [
      "The file contains:\n",
      "System predicts:summary the sides to break a teacher for the you keep error code coverage work for places to save money baby is taking longer to getting squared away then the bank is expected in the life event company in AVN had Tak Sahi retirement income the British Oppo new Sevan ragnarok latest update you naked Bond what a discussion can insert when the title of this type of song is in question or waxing or gasing needed diprovate 90% discount by workplace leather lace work on a flat surface and smooth out this time system uses its angles of intent Unity asset store holds a good mechanical isliye bad boss 12 figures with Johar in lete Samay beautiful chairs cabinets test for houses\n"
     ]
    }
   ],
   "source": [
    "import speech_recognition as sr\n",
    "filename=\"nst.wav\"\n",
    "r=sr.Recognizer()\n",
    "with sr.AudioFile(filename) as source:\n",
    "    print(\"The file contains:\")\n",
    "    audio=r.listen(source)\n",
    "    \n",
    "    try:\n",
    "        print(\"System predicts:\"+r.recognize_google(audio))\n",
    "    except Exception:\n",
    "        print(\"Something went wrong\")"
   ]
  },
  {
   "cell_type": "markdown",
   "metadata": {},
   "source": [
    "# Text to Speech using file"
   ]
  },
  {
   "cell_type": "code",
   "execution_count": 5,
   "metadata": {},
   "outputs": [],
   "source": [
    "#text file is in telugu language\n",
    "from gtts import gTTS\n",
    "text=\"\"\n",
    "with open(\"try.txt\",\"r\") as file:\n",
    "    for line in file:\n",
    "        text=text+line\n",
    "speech=gTTS(text)\n",
    "speech.save(\"hello1.wav\")\n"
   ]
  },
  {
   "cell_type": "markdown",
   "metadata": {},
   "source": [
    "# Text to Speech "
   ]
  },
  {
   "cell_type": "code",
   "execution_count": 6,
   "metadata": {},
   "outputs": [],
   "source": [
    "from gtts import gTTS\n",
    "text=\"this is divya vamjangi...nice to meet u\"\n",
    "speech=gTTS(text)\n",
    "speech.save(\"hello.wav\")"
   ]
  }
 ],
 "metadata": {
  "kernelspec": {
   "display_name": "Python 3",
   "language": "python",
   "name": "python3"
  },
  "language_info": {
   "codemirror_mode": {
    "name": "ipython",
    "version": 3
   },
   "file_extension": ".py",
   "mimetype": "text/x-python",
   "name": "python",
   "nbconvert_exporter": "python",
   "pygments_lexer": "ipython3",
   "version": "3.7.7"
  }
 },
 "nbformat": 4,
 "nbformat_minor": 4
}
